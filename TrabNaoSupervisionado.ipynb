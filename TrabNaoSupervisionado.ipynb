{
  "nbformat": 4,
  "nbformat_minor": 0,
  "metadata": {
    "colab": {
      "provenance": [],
      "authorship_tag": "ABX9TyOx6hsjWc+ko9/F2WM7sFU8",
      "include_colab_link": true
    },
    "kernelspec": {
      "name": "python3",
      "display_name": "Python 3"
    },
    "language_info": {
      "name": "python"
    }
  },
  "cells": [
    {
      "cell_type": "markdown",
      "metadata": {
        "id": "view-in-github",
        "colab_type": "text"
      },
      "source": [
        "<a href=\"https://colab.research.google.com/github/mateusbissani/TrabNaoSupervisionado/blob/main/TrabNaoSupervisionado.ipynb\" target=\"_parent\"><img src=\"https://colab.research.google.com/assets/colab-badge.svg\" alt=\"Open In Colab\"/></a>"
      ]
    },
    {
      "cell_type": "code",
      "execution_count": 18,
      "metadata": {
        "id": "aA9DkNqeOVXA"
      },
      "outputs": [],
      "source": [
        "import numpy as np\n",
        "import pandas as pd\n",
        "import matplotlib as mpl\n",
        "import matplotlib.pyplot as plt\n",
        "import seaborn as sns\n",
        "import warnings\n",
        "%matplotlib inline"
      ]
    },
    {
      "cell_type": "code",
      "source": [
        "from google.colab import drive\n",
        "drive.mount('/content/drive')"
      ],
      "metadata": {
        "colab": {
          "base_uri": "https://localhost:8080/"
        },
        "id": "rmDQesQkOwdS",
        "outputId": "1aa001d4-42b1-47ae-d5d4-1e1a9b4e14e1"
      },
      "execution_count": 19,
      "outputs": [
        {
          "output_type": "stream",
          "name": "stdout",
          "text": [
            "Drive already mounted at /content/drive; to attempt to forcibly remount, call drive.mount(\"/content/drive\", force_remount=True).\n"
          ]
        }
      ]
    },
    {
      "cell_type": "code",
      "source": [
        "df = pd.read_csv('/content/drive/MyDrive/Data Science/2020-11-03_FILA_-_Base De Dados.csv',\n",
        "                      sep=',', encoding='iso-8859-1')"
      ],
      "metadata": {
        "id": "5OBR5H9vO1z4"
      },
      "execution_count": 20,
      "outputs": []
    },
    {
      "cell_type": "code",
      "source": [
        "df.head()"
      ],
      "metadata": {
        "colab": {
          "base_uri": "https://localhost:8080/",
          "height": 337
        },
        "id": "lzu2kVG9O5FE",
        "outputId": "437d97a2-c01d-49dc-9064-994a03d286a5"
      },
      "execution_count": 21,
      "outputs": [
        {
          "output_type": "execute_result",
          "data": {
            "text/plain": [
              "   id data_inscricao data_validade         condicao_especial  \\\n",
              "0   1       30/12/86       07/2021                    Mulher   \n",
              "1   2       26/04/88       07/2021                    Mulher   \n",
              "2   3       17/05/88       04/2021                    Mulher   \n",
              "3   4       12/07/90       01/2021  Nenhum critério atingido   \n",
              "4   5       03/07/89       04/2020                    Mulher   \n",
              "\n",
              "                   faixa_renda  \\\n",
              "0       FAIXA 3 (mais de 3275)   \n",
              "1      FAIXA 1 (menos de 1600)   \n",
              "2  FAIXA 2 (entre 1600 e 3275)   \n",
              "3       FAIXA 3 (mais de 3275)   \n",
              "4      FAIXA 1 (menos de 1600)   \n",
              "\n",
              "                                           bairro       cidade       data_lote  \n",
              "0  NÚCLEO HABITACIONAL DOUTOR ABRANCHES GUIMARÃES  Campo Largo  03/11/20 10:28  \n",
              "1                                  Campo Comprido     Curitiba  03/11/20 10:28  \n",
              "2                               Cidade Industrial     Curitiba  03/11/20 10:28  \n",
              "3                               Cidade Industrial     Curitiba  03/11/20 10:28  \n",
              "4                                 Capão da Imbuia     Curitiba  03/11/20 10:28  "
            ],
            "text/html": [
              "\n",
              "  <div id=\"df-7bffe0cf-f2a2-43d4-b5e2-06c996fdb0c7\">\n",
              "    <div class=\"colab-df-container\">\n",
              "      <div>\n",
              "<style scoped>\n",
              "    .dataframe tbody tr th:only-of-type {\n",
              "        vertical-align: middle;\n",
              "    }\n",
              "\n",
              "    .dataframe tbody tr th {\n",
              "        vertical-align: top;\n",
              "    }\n",
              "\n",
              "    .dataframe thead th {\n",
              "        text-align: right;\n",
              "    }\n",
              "</style>\n",
              "<table border=\"1\" class=\"dataframe\">\n",
              "  <thead>\n",
              "    <tr style=\"text-align: right;\">\n",
              "      <th></th>\n",
              "      <th>id</th>\n",
              "      <th>data_inscricao</th>\n",
              "      <th>data_validade</th>\n",
              "      <th>condicao_especial</th>\n",
              "      <th>faixa_renda</th>\n",
              "      <th>bairro</th>\n",
              "      <th>cidade</th>\n",
              "      <th>data_lote</th>\n",
              "    </tr>\n",
              "  </thead>\n",
              "  <tbody>\n",
              "    <tr>\n",
              "      <th>0</th>\n",
              "      <td>1</td>\n",
              "      <td>30/12/86</td>\n",
              "      <td>07/2021</td>\n",
              "      <td>Mulher</td>\n",
              "      <td>FAIXA 3 (mais de 3275)</td>\n",
              "      <td>NÚCLEO HABITACIONAL DOUTOR ABRANCHES GUIMARÃES</td>\n",
              "      <td>Campo Largo</td>\n",
              "      <td>03/11/20 10:28</td>\n",
              "    </tr>\n",
              "    <tr>\n",
              "      <th>1</th>\n",
              "      <td>2</td>\n",
              "      <td>26/04/88</td>\n",
              "      <td>07/2021</td>\n",
              "      <td>Mulher</td>\n",
              "      <td>FAIXA 1 (menos de 1600)</td>\n",
              "      <td>Campo Comprido</td>\n",
              "      <td>Curitiba</td>\n",
              "      <td>03/11/20 10:28</td>\n",
              "    </tr>\n",
              "    <tr>\n",
              "      <th>2</th>\n",
              "      <td>3</td>\n",
              "      <td>17/05/88</td>\n",
              "      <td>04/2021</td>\n",
              "      <td>Mulher</td>\n",
              "      <td>FAIXA 2 (entre 1600 e 3275)</td>\n",
              "      <td>Cidade Industrial</td>\n",
              "      <td>Curitiba</td>\n",
              "      <td>03/11/20 10:28</td>\n",
              "    </tr>\n",
              "    <tr>\n",
              "      <th>3</th>\n",
              "      <td>4</td>\n",
              "      <td>12/07/90</td>\n",
              "      <td>01/2021</td>\n",
              "      <td>Nenhum critério atingido</td>\n",
              "      <td>FAIXA 3 (mais de 3275)</td>\n",
              "      <td>Cidade Industrial</td>\n",
              "      <td>Curitiba</td>\n",
              "      <td>03/11/20 10:28</td>\n",
              "    </tr>\n",
              "    <tr>\n",
              "      <th>4</th>\n",
              "      <td>5</td>\n",
              "      <td>03/07/89</td>\n",
              "      <td>04/2020</td>\n",
              "      <td>Mulher</td>\n",
              "      <td>FAIXA 1 (menos de 1600)</td>\n",
              "      <td>Capão da Imbuia</td>\n",
              "      <td>Curitiba</td>\n",
              "      <td>03/11/20 10:28</td>\n",
              "    </tr>\n",
              "  </tbody>\n",
              "</table>\n",
              "</div>\n",
              "      <button class=\"colab-df-convert\" onclick=\"convertToInteractive('df-7bffe0cf-f2a2-43d4-b5e2-06c996fdb0c7')\"\n",
              "              title=\"Convert this dataframe to an interactive table.\"\n",
              "              style=\"display:none;\">\n",
              "        \n",
              "  <svg xmlns=\"http://www.w3.org/2000/svg\" height=\"24px\"viewBox=\"0 0 24 24\"\n",
              "       width=\"24px\">\n",
              "    <path d=\"M0 0h24v24H0V0z\" fill=\"none\"/>\n",
              "    <path d=\"M18.56 5.44l.94 2.06.94-2.06 2.06-.94-2.06-.94-.94-2.06-.94 2.06-2.06.94zm-11 1L8.5 8.5l.94-2.06 2.06-.94-2.06-.94L8.5 2.5l-.94 2.06-2.06.94zm10 10l.94 2.06.94-2.06 2.06-.94-2.06-.94-.94-2.06-.94 2.06-2.06.94z\"/><path d=\"M17.41 7.96l-1.37-1.37c-.4-.4-.92-.59-1.43-.59-.52 0-1.04.2-1.43.59L10.3 9.45l-7.72 7.72c-.78.78-.78 2.05 0 2.83L4 21.41c.39.39.9.59 1.41.59.51 0 1.02-.2 1.41-.59l7.78-7.78 2.81-2.81c.8-.78.8-2.07 0-2.86zM5.41 20L4 18.59l7.72-7.72 1.47 1.35L5.41 20z\"/>\n",
              "  </svg>\n",
              "      </button>\n",
              "      \n",
              "  <style>\n",
              "    .colab-df-container {\n",
              "      display:flex;\n",
              "      flex-wrap:wrap;\n",
              "      gap: 12px;\n",
              "    }\n",
              "\n",
              "    .colab-df-convert {\n",
              "      background-color: #E8F0FE;\n",
              "      border: none;\n",
              "      border-radius: 50%;\n",
              "      cursor: pointer;\n",
              "      display: none;\n",
              "      fill: #1967D2;\n",
              "      height: 32px;\n",
              "      padding: 0 0 0 0;\n",
              "      width: 32px;\n",
              "    }\n",
              "\n",
              "    .colab-df-convert:hover {\n",
              "      background-color: #E2EBFA;\n",
              "      box-shadow: 0px 1px 2px rgba(60, 64, 67, 0.3), 0px 1px 3px 1px rgba(60, 64, 67, 0.15);\n",
              "      fill: #174EA6;\n",
              "    }\n",
              "\n",
              "    [theme=dark] .colab-df-convert {\n",
              "      background-color: #3B4455;\n",
              "      fill: #D2E3FC;\n",
              "    }\n",
              "\n",
              "    [theme=dark] .colab-df-convert:hover {\n",
              "      background-color: #434B5C;\n",
              "      box-shadow: 0px 1px 3px 1px rgba(0, 0, 0, 0.15);\n",
              "      filter: drop-shadow(0px 1px 2px rgba(0, 0, 0, 0.3));\n",
              "      fill: #FFFFFF;\n",
              "    }\n",
              "  </style>\n",
              "\n",
              "      <script>\n",
              "        const buttonEl =\n",
              "          document.querySelector('#df-7bffe0cf-f2a2-43d4-b5e2-06c996fdb0c7 button.colab-df-convert');\n",
              "        buttonEl.style.display =\n",
              "          google.colab.kernel.accessAllowed ? 'block' : 'none';\n",
              "\n",
              "        async function convertToInteractive(key) {\n",
              "          const element = document.querySelector('#df-7bffe0cf-f2a2-43d4-b5e2-06c996fdb0c7');\n",
              "          const dataTable =\n",
              "            await google.colab.kernel.invokeFunction('convertToInteractive',\n",
              "                                                     [key], {});\n",
              "          if (!dataTable) return;\n",
              "\n",
              "          const docLinkHtml = 'Like what you see? Visit the ' +\n",
              "            '<a target=\"_blank\" href=https://colab.research.google.com/notebooks/data_table.ipynb>data table notebook</a>'\n",
              "            + ' to learn more about interactive tables.';\n",
              "          element.innerHTML = '';\n",
              "          dataTable['output_type'] = 'display_data';\n",
              "          await google.colab.output.renderOutput(dataTable, element);\n",
              "          const docLink = document.createElement('div');\n",
              "          docLink.innerHTML = docLinkHtml;\n",
              "          element.appendChild(docLink);\n",
              "        }\n",
              "      </script>\n",
              "    </div>\n",
              "  </div>\n",
              "  "
            ]
          },
          "metadata": {},
          "execution_count": 21
        }
      ]
    },
    {
      "cell_type": "code",
      "source": [
        "df.info()"
      ],
      "metadata": {
        "colab": {
          "base_uri": "https://localhost:8080/"
        },
        "id": "S_jFmWmzQVJf",
        "outputId": "27423869-e8d1-4dbd-988a-7782c5ed927e"
      },
      "execution_count": 22,
      "outputs": [
        {
          "output_type": "stream",
          "name": "stdout",
          "text": [
            "<class 'pandas.core.frame.DataFrame'>\n",
            "RangeIndex: 41775 entries, 0 to 41774\n",
            "Data columns (total 8 columns):\n",
            " #   Column             Non-Null Count  Dtype \n",
            "---  ------             --------------  ----- \n",
            " 0   id                 41775 non-null  int64 \n",
            " 1   data_inscricao     41775 non-null  object\n",
            " 2   data_validade      41775 non-null  object\n",
            " 3   condicao_especial  41775 non-null  object\n",
            " 4   faixa_renda        41775 non-null  object\n",
            " 5   bairro             40683 non-null  object\n",
            " 6   cidade             41750 non-null  object\n",
            " 7   data_lote          41775 non-null  object\n",
            "dtypes: int64(1), object(7)\n",
            "memory usage: 2.5+ MB\n"
          ]
        }
      ]
    }
  ]
}